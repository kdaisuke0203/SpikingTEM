{
 "cells": [
  {
   "cell_type": "code",
   "execution_count": 4,
   "metadata": {
    "pycharm": {
     "name": "#%%\n"
    },
    "scrolled": true
   },
   "outputs": [
    {
     "name": "stdout",
     "output_type": "stream",
     "text": [
      "The autoreload extension is already loaded. To reload it, use:\n",
      "  %reload_ext autoreload\n",
      "try\n",
      "No trained model weights found for 2024-10-27, run 2.\n"
     ]
    },
    {
     "ename": "NameError",
     "evalue": "name 'index' is not defined",
     "output_type": "error",
     "traceback": [
      "\u001b[1;31m---------------------------------------------------------------------------\u001b[0m",
      "\u001b[1;31mNameError\u001b[0m                                 Traceback (most recent call last)",
      "\u001b[1;32m<ipython-input-4-8fc98bb3859b>\u001b[0m in \u001b[0;36m<module>\u001b[1;34m\u001b[0m\n\u001b[0;32m     42\u001b[0m \u001b[1;33m\u001b[0m\u001b[0m\n\u001b[0;32m     43\u001b[0m \u001b[1;31m# Load data, generated either during training or in a forward pass through a trained model\u001b[0m\u001b[1;33m\u001b[0m\u001b[1;33m\u001b[0m\u001b[1;33m\u001b[0m\u001b[0m\n\u001b[1;32m---> 44\u001b[1;33m \u001b[0mdata\u001b[0m\u001b[1;33m,\u001b[0m \u001b[0mpara\u001b[0m\u001b[1;33m,\u001b[0m \u001b[0mlist_of_files\u001b[0m\u001b[1;33m,\u001b[0m \u001b[0msave_path\u001b[0m\u001b[1;33m,\u001b[0m \u001b[0menv_dict\u001b[0m \u001b[1;33m=\u001b[0m \u001b[0mpf\u001b[0m\u001b[1;33m.\u001b[0m\u001b[0mget_data\u001b[0m\u001b[1;33m(\u001b[0m\u001b[0msave_dirs\u001b[0m\u001b[1;33m,\u001b[0m \u001b[0mrun\u001b[0m\u001b[1;33m,\u001b[0m \u001b[0mdate\u001b[0m\u001b[1;33m,\u001b[0m \u001b[0mrecent\u001b[0m\u001b[1;33m,\u001b[0m \u001b[0mindex\u001b[0m\u001b[1;33m=\u001b[0m\u001b[0mindex\u001b[0m\u001b[1;33m,\u001b[0m \u001b[0msmoothing\u001b[0m\u001b[1;33m=\u001b[0m\u001b[0mtime_series_smoothing\u001b[0m\u001b[1;33m,\u001b[0m \u001b[0mn_envs_save\u001b[0m\u001b[1;33m=\u001b[0m\u001b[1;36m16\u001b[0m\u001b[1;33m)\u001b[0m\u001b[1;33m\u001b[0m\u001b[1;33m\u001b[0m\u001b[0m\n\u001b[0m\u001b[0;32m     45\u001b[0m \u001b[1;33m\u001b[0m\u001b[0m\n\u001b[0;32m     46\u001b[0m \u001b[1;31m# Unpack data\u001b[0m\u001b[1;33m\u001b[0m\u001b[1;33m\u001b[0m\u001b[1;33m\u001b[0m\u001b[0m\n",
      "\u001b[1;31mNameError\u001b[0m: name 'index' is not defined"
     ]
    }
   ],
   "source": [
    "%load_ext autoreload\n",
    "%autoreload 2\n",
    "%matplotlib inline\n",
    "\n",
    "import numpy as np\n",
    "import matplotlib.pyplot as plt\n",
    "import seaborn\n",
    "import datetime\n",
    "import re\n",
    "from os import listdir\n",
    "import sys\n",
    "import copy as cp\n",
    "sys.path.insert(0, '../model_tf2')\n",
    "import parameters\n",
    "import plotting_functions as pf\n",
    "import data_utils as du\n",
    "import model_utils as mu\n",
    "import behaviour_analyses as ba\n",
    "\n",
    "# ADD YOUR DIRECTORIES HERE\n",
    "\n",
    "path = 'C:/Users/kdais/prog/spikingTEM-main/shift-spiking/Summaries/'\n",
    "save_dirs = [path]\n",
    "\n",
    "# Choose which training run data to load\n",
    "date = '2024-10-27'\n",
    "run = '2'\n",
    "index_load = None\n",
    "\n",
    "# Try to find the most recent trained model data to run a forward pass\n",
    "recent = -1\n",
    "time_series_smoothing = 0\n",
    "try:\n",
    "    print(\"try\")\n",
    "    # Find model path and iteration index\n",
    "    save_dir, index = pf.get_model_path(run, date, save_dirs, recent)\n",
    "    print(\"index\",index)\n",
    "    # Run forward path for retrieved model, if folder doesn't exist yet\n",
    "    model = ba.save_trained_outputs(date, run, int(index), base_path=save_dir, force_overwrite=False, n_envs_save=16)\n",
    "except FileNotFoundError:\n",
    "    print('No trained model weights found for ' + date + ', run ' + run + '.')\n",
    "    \n",
    "# Load data, generated either during training or in a forward pass through a trained model\n",
    "data, para, list_of_files, save_path, env_dict = pf.get_data(save_dirs, run, date, recent, index=index, smoothing=time_series_smoothing, n_envs_save=16)\n",
    "\n",
    "# Unpack data\n",
    "x_all = data.x\n",
    "g_all = data.g\n",
    "g_pred2_all = data.g_pred2\n",
    "p_all = data.p\n",
    "acc_s_t_to = data.acc_to\n",
    "acc_s_t_from = data.acc_from\n",
    "positions = data.positions\n",
    "adj = data.adj\n",
    "x_timeseries = data.x_timeseries\n",
    "x_gt_timeseries = data.x_gt_timeseries\n",
    "p_timeseries = data.p_timeseries\n",
    "g_timeseries = data.g_timeseries\n",
    "pos_timeseries = data.pos_timeseries\n",
    "final_variables = data.final_variables\n",
    "# Group timeseries together for backward compatibility\n",
    "timeseries = (g_timeseries, p_timeseries, pos_timeseries)\n",
    "# Assign parameters\n",
    "params, widths, n_states = para\n",
    "\n",
    "# Specify plotting parameters. Some fields will be added after loading data & parameters\n",
    "plot_specs = mu.DotDict({'smoothing': 0, # spatial ratemap smoothing. Needs to be odd, or 0 for no smoothing\n",
    "                      'maxmin': True,\n",
    "                      'cmap': 'jet',\n",
    "                      'show': True,\n",
    "                      'circle': True,\n",
    "                      'g_max_0': False,\n",
    "                      'p_max_0': True,\n",
    "                      'save': False,\n",
    "                      'split_freqs': True,\n",
    "                      'mult': 4,\n",
    "                      'cell_num': True,\n",
    "                      'rectangle': {'marker_size': 20,\n",
    "                                  'marker_shape': 's'},\n",
    "                     })\n",
    "\n",
    "import seaborn\n",
    "seaborn.set_style(style='white')\n",
    "seaborn.set_style({'axes.spines.bottom': False,'axes.spines.left': False,'axes.spines.right': \\\n",
    "                   False,'axes.spines.top': False})\n",
    "\n",
    "masks, g_lim, p_lim = pf.sort_data(g_all, p_all, widths, plot_specs)"
   ]
  },
  {
   "cell_type": "code",
   "execution_count": null,
   "metadata": {
    "pycharm": {
     "name": "#%%\n"
    }
   },
   "outputs": [],
   "source": [
    "masks = [(np.sum(g,1) + np.sum(p,1) != 0).tolist() for g,p in zip(g_all, p_all)]\n",
    "trainalbe_variables = model.trainable_weights\n",
    "print(\"trainalbe_variables\",trainalbe_variables)"
   ]
  },
  {
   "cell_type": "code",
   "execution_count": null,
   "metadata": {
    "pycharm": {
     "name": "#%%\n"
    }
   },
   "outputs": [],
   "source": [
    "for env in range(params.n_envs_save):\n",
    "    num_correct = np.sum(acc_s_t_to[env] * positions[env])\n",
    "    proportion = num_correct / sum(positions[env])\n",
    "    approx_num = proportion * n_states[env]\n",
    "    print(env, '  Num_states : ', n_states[env], '   Approx proportion : ', np.round(proportion, decimals=3), \\\n",
    "          '   Approx num : ', np.round(approx_num, decimals=0))"
   ]
  },
  {
   "cell_type": "code",
   "execution_count": null,
   "metadata": {
    "pycharm": {
     "name": "#%%\n"
    }
   },
   "outputs": [],
   "source": [
    "env0 = 2 #2\n",
    "env1 = 3\n",
    "envs = [env0, env1]"
   ]
  },
  {
   "cell_type": "markdown",
   "metadata": {
    "pycharm": {
     "name": "#%% md\n"
    }
   },
   "source": [
    "## GRAPHS"
   ]
  },
  {
   "cell_type": "code",
   "execution_count": null,
   "metadata": {
    "pycharm": {
     "name": "#%%\n"
    }
   },
   "outputs": [],
   "source": [
    "import networkx as nx\n",
    "try:\n",
    "    plt.figure(figsize=(10,5))\n",
    "    for i, env in enumerate([env0, env1]):\n",
    "        adj_ = pf.remove_zero_adj(adj[env])\n",
    "        \n",
    "        plt.subplot(1,2,i + 1)\n",
    "        g = nx.from_numpy_matrix(adj_,create_using=nx.DiGraph)\n",
    "        pos_nodes = nx.spring_layout(g, iterations=500)\n",
    "        nx.draw(g, pos=pos_nodes, node_size=50, with_labels=True)\n",
    "    \n",
    "    plt.show()\n",
    "except TypeError:\n",
    "    plt.close('all')\n",
    "    pass"
   ]
  },
  {
   "cell_type": "markdown",
   "metadata": {
    "pycharm": {
     "name": "#%% md\n"
    }
   },
   "source": [
    "## AGENT COVERAGE"
   ]
  },
  {
   "cell_type": "markdown",
   "metadata": {
    "pycharm": {
     "name": "#%% md\n"
    }
   },
   "source": [
    "## ACCURACY MAPS"
   ]
  },
  {
   "cell_type": "markdown",
   "metadata": {
    "pycharm": {
     "name": "#%% md\n"
    }
   },
   "source": [
    "## ENTORHINAL CELLS"
   ]
  },
  {
   "cell_type": "code",
   "execution_count": null,
   "metadata": {
    "pycharm": {
     "name": "#%%\n"
    }
   },
   "outputs": [],
   "source": [
    "plot_specs.split_freqs = True\n",
    "plot_specs.n_cells_freq = params.n_grids_all\n",
    "plot_specs.cmap = 'jet'\n",
    "plot_specs.node_plot = True\n",
    "plot_specs.max_min = False\n",
    "print(g_all[0].shape)\n",
    "print(plot_specs.n_cells_freq)"
   ]
  },
  {
   "cell_type": "code",
   "execution_count": null,
   "metadata": {
    "pycharm": {
     "name": "#%%\n"
    },
    "scrolled": true
   },
   "outputs": [],
   "source": [
    "pf.square_plot(g_all, env0, params, plot_specs, name='g0', lims=g_lim, mask=masks[env0], env_class=env_dict.curric_env.envs[env0])"
   ]
  },
  {
   "cell_type": "code",
   "execution_count": null,
   "metadata": {
    "pycharm": {
     "name": "#%%\n"
    }
   },
   "outputs": [],
   "source": [
    "#pf.square_plot(g_all, env1, params, plot_specs, name='g1', lims=g_lim, mask=masks[env1], env_class=env_dict.curric_env.envs[env1])\n",
    "pf.square_plot(g_pred2_all, env0, params, plot_specs, name='g0', lims=g_lim, mask=masks[env0], env_class=env_dict.curric_env.envs[env0])"
   ]
  },
  {
   "cell_type": "code",
   "execution_count": null,
   "metadata": {
    "jupyter": {
     "outputs_hidden": false
    },
    "pycharm": {
     "name": "#%%\n"
    }
   },
   "outputs": [],
   "source": [
    "print(\"final_variables\",type(final_variables))\n",
    "print(\"final_variables\",dir(final_variables))\n",
    "print(\"final_variables\",len(final_variables.weights))\n",
    "print(\"final_variables\",final_variables.weights)"
   ]
  },
  {
   "cell_type": "code",
   "execution_count": null,
   "metadata": {},
   "outputs": [],
   "source": [
    "print(\"final_variables\",list(final_variables))"
   ]
  },
  {
   "cell_type": "code",
   "execution_count": null,
   "metadata": {},
   "outputs": [],
   "source": []
  },
  {
   "cell_type": "code",
   "execution_count": null,
   "metadata": {},
   "outputs": [],
   "source": []
  }
 ],
 "metadata": {
  "kernelspec": {
   "display_name": "Python 3",
   "language": "python",
   "name": "python3"
  },
  "language_info": {
   "codemirror_mode": {
    "name": "ipython",
    "version": 3
   },
   "file_extension": ".py",
   "mimetype": "text/x-python",
   "name": "python",
   "nbconvert_exporter": "python",
   "pygments_lexer": "ipython3",
   "version": "3.8.5"
  }
 },
 "nbformat": 4,
 "nbformat_minor": 4
}
